{
  "nbformat": 4,
  "nbformat_minor": 0,
  "metadata": {
    "colab": {
      "name": "Python Exercises for Beginners.ipynb",
      "provenance": [],
      "collapsed_sections": [],
      "authorship_tag": "ABX9TyMmka8T+xciqkES9AFUpeVp",
      "include_colab_link": true
    },
    "kernelspec": {
      "name": "python3",
      "display_name": "Python 3"
    },
    "language_info": {
      "name": "python"
    }
  },
  "cells": [
    {
      "cell_type": "markdown",
      "metadata": {
        "id": "view-in-github",
        "colab_type": "text"
      },
      "source": [
        "<a href=\"https://colab.research.google.com/github/mcgmed/Python-Exercises/blob/main/Python_Exercises_for_Beginners.ipynb\" target=\"_parent\"><img src=\"https://colab.research.google.com/assets/colab-badge.svg\" alt=\"Open In Colab\"/></a>"
      ]
    },
    {
      "cell_type": "markdown",
      "source": [
        "# Addition of numbers"
      ],
      "metadata": {
        "id": "H2MtGDsBAiTB"
      }
    },
    {
      "cell_type": "code",
      "execution_count": 21,
      "metadata": {
        "colab": {
          "base_uri": "https://localhost:8080/"
        },
        "id": "EKHk8pBhr1o_",
        "outputId": "1f46ec56-6f66-4c30-ea2b-23ad57c2efce"
      },
      "outputs": [
        {
          "output_type": "stream",
          "name": "stdout",
          "text": [
            "Type a two digit number: 41\n",
            "5\n"
          ]
        }
      ],
      "source": [
        "two_digit_number = input(\"Type a two digit number: \")\n",
        "\n",
        "print(int(two_digit_number[0]) + int(two_digit_number[1]))"
      ]
    },
    {
      "cell_type": "markdown",
      "source": [
        "# BMI calculation"
      ],
      "metadata": {
        "id": "zYYeZVLkAnSi"
      }
    },
    {
      "cell_type": "code",
      "source": [
        "height = input(\"enter your height in m: \")\n",
        "weight = input(\"enter your weight in kg: \")\n",
        "\n",
        "bmi = int(weight) / float(height)**2\n",
        "print(bmi)\n",
        "print(int(bmi))"
      ],
      "metadata": {
        "colab": {
          "base_uri": "https://localhost:8080/"
        },
        "id": "JQGO7QZuuhVY",
        "outputId": "16d032e9-e677-4817-bad3-cce63d33455b"
      },
      "execution_count": null,
      "outputs": [
        {
          "output_type": "stream",
          "name": "stdout",
          "text": [
            "enter your height in m: 1.70\n",
            "enter your weight in kg: 70\n",
            "24.221453287197235\n",
            "24\n"
          ]
        }
      ]
    },
    {
      "cell_type": "markdown",
      "source": [
        "# Remaning time until age of 90."
      ],
      "metadata": {
        "id": "Op-zruSFAtlf"
      }
    },
    {
      "cell_type": "code",
      "source": [
        "age = input(\"What is your current age? \")\n",
        "\n",
        "left_year = 90 - int(age)\n",
        "days = left_year * 365\n",
        "weeks = left_year * 52\n",
        "months = left_year * 12\n",
        "\n",
        "print(f\"You have {days} days, {weeks} weeks, and {months} months left.\")"
      ],
      "metadata": {
        "colab": {
          "base_uri": "https://localhost:8080/"
        },
        "id": "SAxLYCE52WT8",
        "outputId": "a0709f16-ea81-4732-eb0b-26e4d67718c5"
      },
      "execution_count": null,
      "outputs": [
        {
          "output_type": "stream",
          "name": "stdout",
          "text": [
            "What is your current age? 30\n",
            "You have 21900 days, 3120 weeks, and 720 months left.\n"
          ]
        }
      ]
    },
    {
      "cell_type": "markdown",
      "source": [
        "# FizzBuzz"
      ],
      "metadata": {
        "id": "-Wbrj6YFBrVg"
      }
    },
    {
      "cell_type": "code",
      "source": [
        "for number in range(1, 101):\n",
        "  if number % 3 == 0 and number % 5 == 0:\n",
        "    print(\"FizzBuzz\")\n",
        "  elif number % 3 == 0:\n",
        "    print(\"Fizz\")\n",
        "  elif number % 5 == 0:\n",
        "    print(\"Buzz\")\n",
        "  else:\n",
        "    print(number)"
      ],
      "metadata": {
        "id": "T_YLW4y_BuYX"
      },
      "execution_count": null,
      "outputs": []
    },
    {
      "cell_type": "markdown",
      "source": [
        "# Tip calculator"
      ],
      "metadata": {
        "id": "4ZMOy-oBAxb9"
      }
    },
    {
      "cell_type": "code",
      "source": [
        "print('Welcome to the tip calculator.')\n",
        "total_bill = float(input(\"What was the total bill? \"))\n",
        "percentage_for_tip = int(input(\"What percentage tip would you like to give? 10, 12, or 15 \"))\n",
        "number_of_people = int(input(\"How many people to split the bill? \"))\n",
        "\n",
        "bill_with_tip = total_bill * (percentage_for_tip/100) + total_bill\n",
        "\n",
        "bill_for_one_person = bill_with_tip / number_of_people\n",
        "\n",
        "print(f\"Each person should pay: {round(bill_for_one_person, 2)}\")"
      ],
      "metadata": {
        "colab": {
          "base_uri": "https://localhost:8080/"
        },
        "id": "XvRemaeh3JB5",
        "outputId": "d306cb96-7ce1-49fa-85e1-1a45ed72077e"
      },
      "execution_count": null,
      "outputs": [
        {
          "output_type": "stream",
          "name": "stdout",
          "text": [
            "Welcome to the tip calculator.\n",
            "What was the total bill? 234\n",
            "What percentage tip would you like to give? 10, 12, or 15 12\n",
            "How many people to split the bill? 4\n",
            "Each person should pay: 65.52\n"
          ]
        }
      ]
    },
    {
      "cell_type": "markdown",
      "source": [
        "# Password Generator Project"
      ],
      "metadata": {
        "id": "jKzEqgpDA0aA"
      }
    },
    {
      "cell_type": "code",
      "source": [
        "import random\n",
        "letters = ['a', 'b', 'c', 'd', 'e', 'f', 'g', 'h', 'i', 'j', 'k', 'l', 'm', 'n', 'o', 'p', 'q', 'r', 's', 't', 'u', 'v', 'w', 'x', 'y', 'z', 'A', 'B', 'C', 'D', 'E', 'F', 'G', 'H', 'I', 'J', 'K', 'L', 'M', 'N', 'O', 'P', 'Q', 'R', 'S', 'T', 'U', 'V', 'W', 'X', 'Y', 'Z']\n",
        "numbers = ['0', '1', '2', '3', '4', '5', '6', '7', '8', '9']\n",
        "symbols = ['!', '#', '$', '%', '&', '(', ')', '*', '+']\n",
        "\n",
        "print(\"Welcome to the PyPassword Generator!\")\n",
        "nr_letters = int(input(\"How many letters would you like in your password?\\n\")) \n",
        "nr_symbols = int(input(f\"How many symbols would you like?\\n\"))\n",
        "nr_numbers = int(input(f\"How many numbers would you like?\\n\"))\n",
        "\n",
        "password_list = []\n",
        "\n",
        "for char in range(1 , nr_letters + 1):\n",
        "  password_list.append(random.choice(letters))\n",
        "\n",
        "for char in range(1 , nr_symbols + 1):\n",
        "  password_list.append(random.choice(symbols))\n",
        "\n",
        "for char in range(1 , nr_numbers + 1):\n",
        "  password_list.append(random.choice(numbers))\n",
        "\n",
        "random.shuffle(password_list)\n",
        "password = ''\n",
        "for char in password_list:\n",
        "  password += char\n",
        "\n",
        "print(f'Your password is: {password}')"
      ],
      "metadata": {
        "colab": {
          "base_uri": "https://localhost:8080/"
        },
        "id": "D0ZBRfqPylIw",
        "outputId": "19110853-7ae0-44f8-952a-526702f5d711"
      },
      "execution_count": 1,
      "outputs": [
        {
          "output_type": "stream",
          "name": "stdout",
          "text": [
            "Welcome to the PyPassword Generator!\n",
            "How many letters would you like in your password?\n",
            "5\n",
            "How many symbols would you like?\n",
            "4\n",
            "How many numbers would you like?\n",
            "3\n",
            "Your password is: !)6pa#H4bL#2\n"
          ]
        }
      ]
    },
    {
      "cell_type": "markdown",
      "source": [
        "# Hangman Game"
      ],
      "metadata": {
        "id": "bcl5-rgH_FsK"
      }
    },
    {
      "cell_type": "code",
      "source": [
        "import random\n",
        "\n",
        "logo = logo = ''' \n",
        " _                                             \n",
        "| |                                            \n",
        "| |__   __ _ _ __   __ _ _ __ ___   __ _ _ __  \n",
        "| '_ \\ / _` | '_ \\ / _` | '_ ` _ \\ / _` | '_ \\ \n",
        "| | | | (_| | | | | (_| | | | | | | (_| | | | |\n",
        "|_| |_|\\__,_|_| |_|\\__, |_| |_| |_|\\__,_|_| |_|\n",
        "                    __/ |                      \n",
        "                   |___/    '''\n",
        "\n",
        "print(logo)\n",
        "\n",
        "word_list = ['abruptly', 'absurd', 'abyss', 'affix', 'askew', 'avenue', 'awkward', 'axiom', 'azure', 'bagpipes', 'bandwagon', 'banjo', 'bayou', 'beekeeper', 'bikini', 'blitz',\n",
        "             'blizzard', 'boggle', 'bookworm', 'boxcar', 'boxful', 'buckaroo', 'buffalo', 'buffoon', 'buxom', 'buzzard', 'buzzing', 'buzzwords', 'caliph', 'cobweb', 'cockiness',\n",
        "             'croquet', 'crypt', 'curacao', 'cycle', 'daiquiri', 'dirndl', 'disavow', 'dizzying', 'duplex', 'dwarves', 'embezzle', 'equip', 'espionage', 'euouae', 'exodus',\n",
        "             'faking', 'fishhook', 'fixable', 'fjord', 'flapjack', 'flopping', 'fluffiness', 'flyby', 'foxglove', 'frazzled', 'frizzled', 'fuchsia', 'funny', 'gabby', 'galaxy',\n",
        "             'galvanize', 'gazebo', 'giaour', 'gizmo', 'glowworm', 'glyph', 'gnarly', 'gnostic', 'gossip', 'grogginess', 'haiku', 'haphazard', 'hyphen', 'iatrogenic', 'icebox',\n",
        "             'injury', 'ivory', 'ivy', 'jackpot', 'jaundice', 'jawbreaker', 'jaywalk', 'jazziest', 'jazzy', 'jelly', 'jigsaw', 'jinx', 'jiujitsu', 'jockey', 'jogging', 'joking',\n",
        "             'jovial', 'joyful', 'juicy', 'jukebox', 'jumbo', 'kayak', 'kazoo', 'keyhole', 'khaki', 'kilobyte', 'kiosk', 'kitsch', 'kiwifruit', 'klutz', 'knapsack', 'larynx', \n",
        "             'lengths', 'lucky', 'luxury', 'lymph', 'marquis', 'matrix', 'megahertz', 'microwave', 'mnemonic', 'mystify', 'naphtha', 'nightclub', 'nowadays', 'numbskull', \n",
        "             'nymph', 'onyx', 'ovary', 'oxidize', 'oxygen', 'pajama', 'peekaboo', 'phlegm', 'pixel', 'pizazz', 'pneumonia', 'polka', 'pshaw', 'psyche', 'puppy', 'puzzling', \n",
        "             'quartz', 'queue', 'quips', 'quixotic', 'quiz', 'quizzes', 'quorum', 'razzmatazz', 'rhubarb', 'rhythm', 'rickshaw', 'schnapps', 'scratch', 'shiv', 'snazzy',\n",
        "             'sphinx', 'spritz', 'squawk', 'staff', 'strength', 'strengths', 'stretch', 'stronghold', 'stymied', 'subway', 'swivel', 'syndrome', 'thriftless', 'thumbscrew', \n",
        "             'topaz', 'transcript', 'transgress', 'transplant', 'triphthong', 'twelfth', 'twelfths', 'unknown', 'unworthy', 'unzip', 'uptown', 'vaporize', 'vixen', 'vodka', \n",
        "             'voodoo', 'vortex', 'voyeurism', 'walkway', 'waltz', 'wave', 'wavy', 'waxy', 'wellspring', 'wheezy', 'whiskey', 'whizzing', 'whomever', 'wimpy', 'witchcraft', \n",
        "             'wizard', 'woozy', 'wristwatch', 'wyvern', 'xylophone', 'yachtsman', 'yippee', 'yoked', 'youthful', 'yummy', 'zephyr', 'zigzag', 'zigzagging', 'zilch', 'zipper', \n",
        "             'zodiac', 'zombie']\n",
        "\n",
        "stages = ['''\n",
        "  +---+\n",
        "  |   |\n",
        "  O   |\n",
        " /|\\  |\n",
        " / \\  |\n",
        "      |\n",
        "=========\n",
        "''', '''\n",
        "  +---+\n",
        "  |   |\n",
        "  O   |\n",
        " /|\\  |\n",
        " /    |\n",
        "      |\n",
        "=========\n",
        "''', '''\n",
        "  +---+\n",
        "  |   |\n",
        "  O   |\n",
        " /|\\  |\n",
        "      |\n",
        "      |\n",
        "=========\n",
        "''', '''\n",
        "  +---+\n",
        "  |   |\n",
        "  O   |\n",
        " /|   |\n",
        "      |\n",
        "      |\n",
        "=========''', '''\n",
        "  +---+\n",
        "  |   |\n",
        "  O   |\n",
        "  |   |\n",
        "      |\n",
        "      |\n",
        "=========\n",
        "''', '''\n",
        "  +---+\n",
        "  |   |\n",
        "  O   |\n",
        "      |\n",
        "      |\n",
        "      |\n",
        "=========\n",
        "''', '''\n",
        "  +---+\n",
        "  |   |\n",
        "      |\n",
        "      |\n",
        "      |\n",
        "      |\n",
        "=========\n",
        "''']\n",
        "\n",
        "lives = 6\n",
        "random_word = random.choice(word_list)\n",
        "word_length = len(random_word)\n",
        "print(f'Pssst, the solution is {random_word}.') #  -----------    This is for debugging.\n",
        "display = []\n",
        "for i in range(len(random_word)):\n",
        "  display.extend(\"_\")\n",
        "\n",
        "while '_' in display:\n",
        "  guess = input(\"Guess a letter: \").lower()\n",
        "\n",
        "  if guess in display:\n",
        "      print('You have already guessed that!')\n",
        "  \n",
        "  for position in range(word_length):\n",
        "      if random_word[position] == guess:\n",
        "          display[position] = guess\n",
        "  \n",
        "  if guess not in random_word:\n",
        "    print('This letter is not in the chosen word!')\n",
        "    lives -= 1\n",
        "    print(f'You have {lives} lives left')\n",
        "    if lives == 0:\n",
        "      print(f'You lose. The word is {random_word}.')\n",
        "      print(stages[lives])\n",
        "      break\n",
        "\n",
        "  if '_' not in display:\n",
        "    print('You win!')\n",
        "    break\n",
        "\n",
        "  print(f'''{display}\n",
        "  \n",
        "  {stages[lives]}''')\n",
        "\n",
        "print(f\"{' '.join(display)}\")\n",
        "\n",
        "print('Game over')"
      ],
      "metadata": {
        "colab": {
          "base_uri": "https://localhost:8080/"
        },
        "id": "9m-_iaR3HN5C",
        "outputId": "fc6e3f11-a767-435b-b646-16e6e50a69e1"
      },
      "execution_count": 24,
      "outputs": [
        {
          "output_type": "stream",
          "name": "stdout",
          "text": [
            " \n",
            " _                                             \n",
            "| |                                            \n",
            "| |__   __ _ _ __   __ _ _ __ ___   __ _ _ __  \n",
            "| '_ \\ / _` | '_ \\ / _` | '_ ` _ \\ / _` | '_ \\ \n",
            "| | | | (_| | | | | (_| | | | | | | (_| | | | |\n",
            "|_| |_|\\__,_|_| |_|\\__, |_| |_| |_|\\__,_|_| |_|\n",
            "                    __/ |                      \n",
            "                   |___/    \n",
            "Pssst, the solution is dwarves.\n",
            "Guess a letter: d\n",
            "['d', '_', '_', '_', '_', '_', '_']\n",
            "  \n",
            "  \n",
            "  +---+\n",
            "  |   |\n",
            "      |\n",
            "      |\n",
            "      |\n",
            "      |\n",
            "=========\n",
            "\n",
            "Guess a letter: w\n",
            "['d', 'w', '_', '_', '_', '_', '_']\n",
            "  \n",
            "  \n",
            "  +---+\n",
            "  |   |\n",
            "      |\n",
            "      |\n",
            "      |\n",
            "      |\n",
            "=========\n",
            "\n",
            "Guess a letter: w\n",
            "You have already guessed that!\n",
            "['d', 'w', '_', '_', '_', '_', '_']\n",
            "  \n",
            "  \n",
            "  +---+\n",
            "  |   |\n",
            "      |\n",
            "      |\n",
            "      |\n",
            "      |\n",
            "=========\n",
            "\n",
            "Guess a letter: a\n",
            "['d', 'w', 'a', '_', '_', '_', '_']\n",
            "  \n",
            "  \n",
            "  +---+\n",
            "  |   |\n",
            "      |\n",
            "      |\n",
            "      |\n",
            "      |\n",
            "=========\n",
            "\n",
            "Guess a letter: r\n",
            "['d', 'w', 'a', 'r', '_', '_', '_']\n",
            "  \n",
            "  \n",
            "  +---+\n",
            "  |   |\n",
            "      |\n",
            "      |\n",
            "      |\n",
            "      |\n",
            "=========\n",
            "\n",
            "Guess a letter: v\n",
            "['d', 'w', 'a', 'r', 'v', '_', '_']\n",
            "  \n",
            "  \n",
            "  +---+\n",
            "  |   |\n",
            "      |\n",
            "      |\n",
            "      |\n",
            "      |\n",
            "=========\n",
            "\n",
            "Guess a letter: e\n",
            "['d', 'w', 'a', 'r', 'v', 'e', '_']\n",
            "  \n",
            "  \n",
            "  +---+\n",
            "  |   |\n",
            "      |\n",
            "      |\n",
            "      |\n",
            "      |\n",
            "=========\n",
            "\n",
            "Guess a letter: s\n",
            "You win!\n",
            "d w a r v e s\n",
            "Game over\n"
          ]
        }
      ]
    },
    {
      "cell_type": "markdown",
      "source": [
        "# Prime Number Checker"
      ],
      "metadata": {
        "id": "zJ_vW8fNDhVA"
      }
    },
    {
      "cell_type": "code",
      "source": [
        "def prime_checker(number):\n",
        "    division_results = []\n",
        "    for i in range(2, number):\n",
        "        division_results.append(number%i)\n",
        "    if 0 in division_results:\n",
        "        print(\"It's not a prime number.\")\n",
        "    else:\n",
        "        print(\"It's a prime number.\")"
      ],
      "metadata": {
        "id": "I6eZ6VD_Dgvv"
      },
      "execution_count": null,
      "outputs": []
    },
    {
      "cell_type": "markdown",
      "source": [
        "Or:"
      ],
      "metadata": {
        "id": "LrtD_zjQDtA7"
      }
    },
    {
      "cell_type": "code",
      "source": [
        "def prime_checker(number):\n",
        "    is_prime = True\n",
        "    for i in range(2, number):\n",
        "        if number % i == 0:\n",
        "            is_prime = False\n",
        "    if is_prime:\n",
        "        print(\"It's a prime number.\")\n",
        "    else:\n",
        "        print(\"It's not a prime number.\")"
      ],
      "metadata": {
        "id": "WA8BJPHTDrN1"
      },
      "execution_count": null,
      "outputs": []
    },
    {
      "cell_type": "markdown",
      "source": [
        "# Casear Cipher"
      ],
      "metadata": {
        "id": "3JxgogXLPglw"
      }
    },
    {
      "cell_type": "code",
      "source": [
        "logo = \"\"\"           \n",
        " ,adPPYba, ,adPPYYba,  ,adPPYba, ,adPPYba, ,adPPYYba, 8b,dPPYba,  \n",
        "a8\"     \"\" \"\"     `Y8 a8P_____88 I8[    \"\" \"\"     `Y8 88P'   \"Y8  \n",
        "8b         ,adPPPPP88 8PP\"\"\"\"\"\"\"  `\"Y8ba,  ,adPPPPP88 88          \n",
        "\"8a,   ,aa 88,    ,88 \"8b,   ,aa aa    ]8I 88,    ,88 88          \n",
        " `\"Ybbd8\"' `\"8bbdP\"Y8  `\"Ybbd8\"' `\"YbbdP\"' `\"8bbdP\"Y8 88   \n",
        "            88             88                                 \n",
        "           \"\"             88                                 \n",
        "                          88                                 \n",
        " ,adPPYba, 88 8b,dPPYba,  88,dPPYba,   ,adPPYba, 8b,dPPYba,  \n",
        "a8\"     \"\" 88 88P'    \"8a 88P'    \"8a a8P_____88 88P'   \"Y8  \n",
        "8b         88 88       d8 88       88 8PP\"\"\"\"\"\"\" 88          \n",
        "\"8a,   ,aa 88 88b,   ,a8\" 88       88 \"8b,   ,aa 88          \n",
        " `\"Ybbd8\"' 88 88`YbbdP\"'  88       88  `\"Ybbd8\"' 88          \n",
        "              88                                             \n",
        "              88           \n",
        "\"\"\"\n",
        "\n",
        "print(logo)\n",
        "\n",
        "alphabet = ['a', 'b', 'c', 'd', 'e', 'f', 'g', 'h', 'i', 'j', 'k', 'l', 'm', 'n', 'o', 'p', 'q', 'r', 's', 't', 'u', 'v', 'w', 'x', 'y', 'z', 'a', 'b', 'c', 'd', 'e', 'f',\n",
        "            'g', 'h', 'i', 'j', 'k', 'l', 'm', 'n', 'o', 'p', 'q', 'r', 's', 't', 'u', 'v', 'w', 'x', 'y', 'z']\n",
        "\n",
        "def caesar(direction, text, shift):\n",
        "  end_text = ''\n",
        "  for i in text:\n",
        "    if i in alphabet:\n",
        "      alphabet_index = alphabet.index(i)\n",
        "      if direction == 'encode':\n",
        "        end_text += alphabet[alphabet_index + shift]\n",
        "      elif direction == 'decode':\n",
        "        end_text += alphabet[alphabet_index - shift]\n",
        "    else:\n",
        "      end_text += i\n",
        "  print(f\"The {direction}d text is {end_text}\")\n",
        "\n",
        "keep_play = True\n",
        "\n",
        "while keep_play:\n",
        "  direction = input(\"Type 'encode' to encrypt, type 'decode' to decrypt:\\n\")\n",
        "  text = input(\"Type your message:\\n\").lower()\n",
        "  shift = int(input(\"Type the shift number:\\n\"))\n",
        "  shift = shift % 26\n",
        "  caesar(direction, text, shift)\n",
        "  ask = input('Do you want to play again? Y or N:\\n').lower()\n",
        "\n",
        "  if ask == 'n':\n",
        "    keep_play = False\n",
        "\n",
        "print('Good bye.')\n"
      ],
      "metadata": {
        "colab": {
          "base_uri": "https://localhost:8080/"
        },
        "id": "aPVyoIa1VX9p",
        "outputId": "9ea1f9cb-ee45-4e3c-b2ea-9c5fef694b57"
      },
      "execution_count": 58,
      "outputs": [
        {
          "output_type": "stream",
          "name": "stdout",
          "text": [
            "           \n",
            " ,adPPYba, ,adPPYYba,  ,adPPYba, ,adPPYba, ,adPPYYba, 8b,dPPYba,  \n",
            "a8\"     \"\" \"\"     `Y8 a8P_____88 I8[    \"\" \"\"     `Y8 88P'   \"Y8  \n",
            "8b         ,adPPPPP88 8PP\"  `\"Y8ba,  ,adPPPPP88 88          \n",
            "\"8a,   ,aa 88,    ,88 \"8b,   ,aa aa    ]8I 88,    ,88 88          \n",
            " `\"Ybbd8\"' `\"8bbdP\"Y8  `\"Ybbd8\"' `\"YbbdP\"' `\"8bbdP\"Y8 88   \n",
            "            88             88                                 \n",
            "           \"\"             88                                 \n",
            "                          88                                 \n",
            " ,adPPYba, 88 8b,dPPYba,  88,dPPYba,   ,adPPYba, 8b,dPPYba,  \n",
            "a8\"     \"\" 88 88P'    \"8a 88P'    \"8a a8P_____88 88P'   \"Y8  \n",
            "8b         88 88       d8 88       88 8PP\" 88          \n",
            "\"8a,   ,aa 88 88b,   ,a8\" 88       88 \"8b,   ,aa 88          \n",
            " `\"Ybbd8\"' 88 88`YbbdP\"'  88       88  `\"Ybbd8\"' 88          \n",
            "              88                                             \n",
            "              88           \n",
            "\n",
            "Type 'encode' to encrypt, type 'decode' to decrypt:\n",
            "encode\n",
            "Type your message:\n",
            "hello\n",
            "Type the shift number:\n",
            "4\n",
            "The encoded text is lipps\n",
            "Do you want to play again? Y or N:\n",
            "y\n",
            "Type 'encode' to encrypt, type 'decode' to decrypt:\n",
            "decode\n",
            "Type your message:\n",
            "lipps\n",
            "Type the shift number:\n",
            "4\n",
            "The decoded text is hello\n",
            "Do you want to play again? Y or N:\n",
            "n\n",
            "Good bye.\n"
          ]
        }
      ]
    },
    {
      "cell_type": "markdown",
      "source": [
        "# Grading Program"
      ],
      "metadata": {
        "id": "X6r7UabLYnaq"
      }
    },
    {
      "cell_type": "code",
      "source": [
        "student_scores = {\"Harry\": 81,\n",
        "                  \"Ron\": 78,\n",
        "                  \"Hermione\": 99,\n",
        "                  \"Draco\": 74,\n",
        "                  \"Neville\": 62,}\n",
        "\n",
        "student_grades = {}\n",
        "\n",
        "for i in student_scores:\n",
        "    if student_scores[i] >90:\n",
        "        student_grades[i] = 'Outstanding'\n",
        "    elif student_scores[i] >80:\n",
        "        student_grades[i] = 'Exceeds Expectations'\n",
        "    elif student_scores[i] >70:\n",
        "        student_grades[i] = 'Acceptable'\n",
        "    else:\n",
        "        student_grades[i] = 'Fail'   \n",
        "\n",
        "print(student_grades)"
      ],
      "metadata": {
        "colab": {
          "base_uri": "https://localhost:8080/"
        },
        "id": "a8ukHVTFYnCx",
        "outputId": "bc2bcce5-ce8f-46ed-ffb6-39229f4bd833"
      },
      "execution_count": 1,
      "outputs": [
        {
          "output_type": "stream",
          "name": "stdout",
          "text": [
            "{'Harry': 'Exceeds Expectations', 'Ron': 'Acceptable', 'Hermione': 'Outstanding', 'Draco': 'Acceptable', 'Neville': 'Fail'}\n"
          ]
        }
      ]
    },
    {
      "cell_type": "markdown",
      "source": [
        "# Dictionary in List"
      ],
      "metadata": {
        "id": "Q8ADW0-Fd4l3"
      }
    },
    {
      "cell_type": "code",
      "source": [
        "travel_log = [{\"country\": \"France\",\n",
        "               \"visits\": 12,\n",
        "               \"cities\": [\"Paris\", \"Lille\", \"Dijon\"]},\n",
        "              {\"country\": \"Germany\",\n",
        "               \"visits\": 5,\n",
        "               \"cities\": [\"Berlin\", \"Hamburg\", \"Stuttgart\"]\n",
        "               }]\n",
        "\n",
        "def add_new_country(country, visits, cities):\n",
        "    travel_log.append(\n",
        "        {\"country\": country,\n",
        "         \"visits\": visits,\n",
        "         \"cities\": cities\n",
        "        })\n",
        "\n",
        "add_new_country(\"Russia\", 2, [\"Moscow\", \"Saint Petersburg\"])\n",
        "print(travel_log)"
      ],
      "metadata": {
        "colab": {
          "base_uri": "https://localhost:8080/"
        },
        "id": "hjJ6Uy2qd8vT",
        "outputId": "60effbad-c260-4cd0-d706-501006ed1474"
      },
      "execution_count": 2,
      "outputs": [
        {
          "output_type": "stream",
          "name": "stdout",
          "text": [
            "[{'country': 'France', 'visits': 12, 'cities': ['Paris', 'Lille', 'Dijon']}, {'country': 'Germany', 'visits': 5, 'cities': ['Berlin', 'Hamburg', 'Stuttgart']}, {'country': 'Russia', 'visits': 2, 'cities': ['Moscow', 'Saint Petersburg']}]\n"
          ]
        }
      ]
    },
    {
      "cell_type": "markdown",
      "source": [
        "# Secret Auction Program"
      ],
      "metadata": {
        "id": "yRb_ynAVOx3p"
      }
    },
    {
      "cell_type": "code",
      "source": [
        "from IPython.display import clear_output\n",
        "\n",
        "bid_list = {}\n",
        "more_bidders = True\n",
        "\n",
        "while more_bidders:\n",
        "  name = input('What is your name?:\\n')\n",
        "  bid = int(input('What is your bid:?\\n'))\n",
        "\n",
        "  bid_list[name] = bid\n",
        "\n",
        "  more_bidder = input('Are there any more bidders? Type yes or no:\\n').lower()\n",
        "  \n",
        "  if more_bidder == 'yes':\n",
        "    clear_output(wait=False)\n",
        "  if more_bidder == 'no':\n",
        "    more_bidders = False\n",
        "    clear_output(wait=False)\n",
        "\n",
        "highest_bidder = max(bid_list, key = bid_list.get)\n",
        "\n",
        "print(f'The winner is {highest_bidder} with a bid of${bid_list[highest_bidder]}.')"
      ],
      "metadata": {
        "colab": {
          "base_uri": "https://localhost:8080/"
        },
        "id": "gHlva7dkCXpX",
        "outputId": "8c102e81-8723-4b98-cfdf-6b0f6d0453e8"
      },
      "execution_count": 18,
      "outputs": [
        {
          "output_type": "stream",
          "name": "stdout",
          "text": [
            "The winner is Michael with a bid of$300.\n"
          ]
        }
      ]
    },
    {
      "cell_type": "markdown",
      "source": [
        "# Days in Month"
      ],
      "metadata": {
        "id": "hYKOSoa_hchA"
      }
    },
    {
      "cell_type": "code",
      "source": [
        "def is_leap(year):\n",
        "  if year % 4 == 0:\n",
        "    if year % 100 == 0:\n",
        "      if year % 400 == 0:\n",
        "        return True\n",
        "      else:\n",
        "        return False\n",
        "    else:\n",
        "      return True\n",
        "  else:\n",
        "    return False\n",
        "\n",
        "def days_in_month(year, month):\n",
        "    month_days = [31, 28, 31, 30, 31, 30, 31, 31, 30, 31, 30, 31]\n",
        "    if is_leap(year) == True and month == 2:\n",
        "      return 29\n",
        "    return month_days[month - 1]\n",
        "\n",
        "year = int(input(\"Enter a year: \"))\n",
        "month = int(input(\"Enter a month: \"))\n",
        "days = days_in_month(year, month)\n",
        "print(days)"
      ],
      "metadata": {
        "colab": {
          "base_uri": "https://localhost:8080/"
        },
        "id": "dTFcDhrchgM8",
        "outputId": "972a3b70-e19b-4184-bdf6-dfdb55cfff9c"
      },
      "execution_count": 33,
      "outputs": [
        {
          "output_type": "stream",
          "name": "stdout",
          "text": [
            "Enter a year: 2000\n",
            "Enter a month: 2\n",
            "29\n"
          ]
        }
      ]
    },
    {
      "cell_type": "markdown",
      "source": [
        "# Calculator"
      ],
      "metadata": {
        "id": "0sRa-6EEyKWO"
      }
    },
    {
      "cell_type": "code",
      "source": [
        "def add(n1, n2):\n",
        "  return n1 + n2\n",
        "\n",
        "def subtract(n1, n2):\n",
        "  return n1 - n2\n",
        "\n",
        "def multiply(n1, n2):\n",
        "  return n1 * n2\n",
        "\n",
        "def divide(n1, n2):\n",
        "  return n1 / n2\n",
        "\n",
        "operations = {'+': add,\n",
        "              '-': subtract,\n",
        "              '*': multiply,\n",
        "              '/': divide}\n",
        "\n",
        "def calculator():\n",
        "  num1 = float(input('What is the first number?:\\n'))\n",
        "\n",
        "  for i in operations:\n",
        "    print(i)\n",
        "\n",
        "  next_calculation = True\n",
        "\n",
        "  while next_calculation:\n",
        "    operation_symbol = input('Pick an operation symbol:\\n')\n",
        "    num2 = float(input('What is the next number?:\\n'))\n",
        "    calculation_function = operations[operation_symbol]\n",
        "    answer = calculation_function(num1, num2)\n",
        "    print(f'{num1} {operation_symbol} {num2} = {answer}')\n",
        "    ask_continue = input(f'Type \"y\" to continue calculating with {answer} or type \"n\" to start a new calculation:\\n').lower()\n",
        "    if ask_continue == 'y':\n",
        "      num1 = answer\n",
        "    elif ask_continue == 'n':\n",
        "      next_calculation = False\n",
        "      calculator() # Recursion!\n",
        "\n",
        "calculator()"
      ],
      "metadata": {
        "id": "2uYBpbKFLMhS"
      },
      "execution_count": null,
      "outputs": []
    },
    {
      "cell_type": "markdown",
      "source": [
        "# Guess The Number"
      ],
      "metadata": {
        "id": "YHWTpqHv2Rw4"
      }
    },
    {
      "cell_type": "code",
      "source": [
        "from random import randint\n",
        "from IPython.display import clear_output\n",
        "\n",
        "def game():\n",
        "  print('Welcome to the Number Guessing Game')\n",
        "  print(\"I'm thinking of a number between 1 and 100\")\n",
        "  difficulty = input(\"Choose a difficulty. Type 'easy' or 'hard':\\n\")\n",
        "\n",
        "  if difficulty == 'hard':\n",
        "    attempts = 5\n",
        "  elif difficulty == 'easy':\n",
        "    attempts = 10\n",
        "\n",
        "  print(f'You have {attempts} remaining to guess the number.')\n",
        "\n",
        "  number = randint(1, 100)\n",
        "  # print(f'number is {number}') #   for debugging\n",
        "\n",
        "  guess = int(input('Make a guess:\\n'))\n",
        "\n",
        "  game_continue = True\n",
        "\n",
        "  while game_continue:\n",
        "    if guess > number:\n",
        "      attempts -= 1\n",
        "      if attempts == 0:\n",
        "        print('You lost.')\n",
        "        game_continue = False\n",
        "      else: \n",
        "        print(f'Too high. You have {attempts} remaining to guess the number')\n",
        "        guess = int(input('Make a guess:\\n'))\n",
        "    elif guess < number:\n",
        "      attempts -= 1\n",
        "      if attempts == 0:\n",
        "        print('You lost.')\n",
        "        game_continue = False\n",
        "      else:\n",
        "        print(f'Too low. You have {attempts} remaining to guess the number')\n",
        "        guess = int(input('Make a guess:\\n'))\n",
        "    elif guess == number:\n",
        "      print('You won.')\n",
        "      game_continue = False\n",
        "\n",
        "game()\n",
        "\n",
        "again = input('Do you want to play again? Type \"yes\" or \"no\":\\n').lower()\n",
        "\n",
        "while again == 'yes':\n",
        "  clear_output(wait=False)\n",
        "  game()\n",
        "  again = input('Do you want to play again? Type \"yes\" or \"no\":\\n').lower()\n",
        "else:\n",
        "  print('Good bye!')"
      ],
      "metadata": {
        "colab": {
          "base_uri": "https://localhost:8080/"
        },
        "id": "Do5QFku71oPW",
        "outputId": "4260c5fc-857a-492a-cb37-36934ab8115e"
      },
      "execution_count": 5,
      "outputs": [
        {
          "output_type": "stream",
          "name": "stdout",
          "text": [
            "Welcome to the Number Guessing Game\n",
            "I'm thinking of a number between 1 and 100\n",
            "Choose a difficulty. Type 'easy' or 'hard':\n",
            "easy\n",
            "You have 10 remaining to guess the number.\n",
            "Make a guess:\n",
            "50\n",
            "Too low. You have 9 remaining to guess the number\n",
            "Make a guess:\n",
            "75\n",
            "Too high. You have 8 remaining to guess the number\n",
            "Make a guess:\n",
            "65\n",
            "Too high. You have 7 remaining to guess the number\n",
            "Make a guess:\n",
            "57\n",
            "Too high. You have 6 remaining to guess the number\n",
            "Make a guess:\n",
            "53\n",
            "Too high. You have 5 remaining to guess the number\n",
            "Make a guess:\n",
            "52\n",
            "You won.\n",
            "Do you want to play again? Type \"yes\" or \"no\":\n",
            "no\n",
            "Good bye!\n"
          ]
        }
      ]
    },
    {
      "cell_type": "code",
      "source": [
        "logo = \"\"\"\n",
        "    __  ___       __             \n",
        "   / / / (_)___ _/ /_  ___  _____\n",
        "  / /_/ / / __ `/ __ \\/ _ \\/ ___/\n",
        " / __  / / /_/ / / / /  __/ /    \n",
        "/_/ ///_/\\__, /_/ /_/\\___/_/     \n",
        "   / /  /____/_      _____  _____\n",
        "  / /   / __ \\ | /| / / _ \\/ ___/\n",
        " / /___/ /_/ / |/ |/ /  __/ /    \n",
        "/_____/\\____/|__/|__/\\___/_/     \n",
        "\"\"\"\n",
        "\n",
        "vs = \"\"\"\n",
        "\n",
        " _    __    \n",
        "| |  / /____\n",
        "| | / / ___/\n",
        "| |/ (__  ) \n",
        "|___/____(_)\n",
        "\n",
        "\"\"\"\n",
        "\n",
        "data = [\n",
        "    {\n",
        "        'name': 'Instagram',\n",
        "        'follower_count': 346,\n",
        "        'description': 'Social media platform',\n",
        "        'country': 'United States'\n",
        "    },\n",
        "    {\n",
        "        'name': 'Cristiano Ronaldo',\n",
        "        'follower_count': 215,\n",
        "        'description': 'Footballer',\n",
        "        'country': 'Portugal'\n",
        "    },\n",
        "    {\n",
        "        'name': 'Ariana Grande',\n",
        "        'follower_count': 183,\n",
        "        'description': 'Musician and actress',\n",
        "        'country': 'United States'\n",
        "    },\n",
        "    {\n",
        "        'name': 'Dwayne Johnson',\n",
        "        'follower_count': 181,\n",
        "        'description': 'Actor and professional wrestler',\n",
        "        'country': 'United States'\n",
        "    },\n",
        "    {\n",
        "        'name': 'Selena Gomez',\n",
        "        'follower_count': 174,\n",
        "        'description': 'Musician and actress',\n",
        "        'country': 'United States'\n",
        "    },\n",
        "    {\n",
        "        'name': 'Kylie Jenner',\n",
        "        'follower_count': 172,\n",
        "        'description': 'Reality TV personality and businesswoman and Self-Made Billionaire',\n",
        "        'country': 'United States'\n",
        "    },\n",
        "    {\n",
        "        'name': 'Kim Kardashian',\n",
        "        'follower_count': 167,\n",
        "        'description': 'Reality TV personality and businesswoman',\n",
        "        'country': 'United States'\n",
        "    },\n",
        "    {\n",
        "        'name': 'Lionel Messi',\n",
        "        'follower_count': 149,\n",
        "        'description': 'Footballer',\n",
        "        'country': 'Argentina'\n",
        "    },\n",
        "    {\n",
        "        'name': 'Beyoncé',\n",
        "        'follower_count': 145,\n",
        "        'description': 'Musician',\n",
        "        'country': 'United States'\n",
        "    },\n",
        "    {\n",
        "        'name': 'Neymar',\n",
        "        'follower_count': 138,\n",
        "        'description': 'Footballer',\n",
        "        'country': 'Brasil'\n",
        "    },\n",
        "    {\n",
        "        'name': 'National Geographic',\n",
        "        'follower_count': 135,\n",
        "        'description': 'Magazine',\n",
        "        'country': 'United States'\n",
        "    },\n",
        "    {\n",
        "        'name': 'Justin Bieber',\n",
        "        'follower_count': 133,\n",
        "        'description': 'Musician',\n",
        "        'country': 'Canada'\n",
        "    },\n",
        "    {\n",
        "        'name': 'Taylor Swift',\n",
        "        'follower_count': 131,\n",
        "        'description': 'Musician',\n",
        "        'country': 'United States'\n",
        "    },\n",
        "    {\n",
        "        'name': 'Kendall Jenner',\n",
        "        'follower_count': 127,\n",
        "        'description': 'Reality TV personality and Model',\n",
        "        'country': 'United States'\n",
        "    },\n",
        "    {\n",
        "        'name': 'Jennifer Lopez',\n",
        "        'follower_count': 119,\n",
        "        'description': 'Musician and actress',\n",
        "        'country': 'United States'\n",
        "    },\n",
        "    {\n",
        "        'name': 'Nicki Minaj',\n",
        "        'follower_count': 113,\n",
        "        'description': 'Musician',\n",
        "        'country': 'Trinidad and Tobago'\n",
        "    },\n",
        "    {\n",
        "        'name': 'Nike',\n",
        "        'follower_count': 109,\n",
        "        'description': 'Sportswear multinational',\n",
        "        'country': 'United States'\n",
        "    },\n",
        "    {\n",
        "        'name': 'Khloé Kardashian',\n",
        "        'follower_count': 108,\n",
        "        'description': 'Reality TV personality and businesswoman',\n",
        "        'country': 'United States'\n",
        "    },\n",
        "    {\n",
        "        'name': 'Miley Cyrus',\n",
        "        'follower_count': 107,\n",
        "        'description': 'Musician and actress',\n",
        "        'country': 'United States'\n",
        "    },\n",
        "    {\n",
        "        'name': 'Katy Perry',\n",
        "        'follower_count': 94,\n",
        "        'description': 'Musician',\n",
        "        'country': 'United States'\n",
        "    },\n",
        "    {\n",
        "        'name': 'Kourtney Kardashian',\n",
        "        'follower_count': 90,\n",
        "        'description': 'Reality TV personality',\n",
        "        'country': 'United States'\n",
        "    },\n",
        "    {\n",
        "        'name': 'Kevin Hart',\n",
        "        'follower_count': 89,\n",
        "        'description': 'Comedian and actor',\n",
        "        'country': 'United States'\n",
        "    },\n",
        "    {\n",
        "        'name': 'Ellen DeGeneres',\n",
        "        'follower_count': 87,\n",
        "        'description': 'Comedian',\n",
        "        'country': 'United States'\n",
        "    },\n",
        "    {\n",
        "        'name': 'Real Madrid CF',\n",
        "        'follower_count': 86,\n",
        "        'description': 'Football club',\n",
        "        'country': 'Spain'\n",
        "    },\n",
        "    {\n",
        "        'name': 'FC Barcelona',\n",
        "        'follower_count': 85,\n",
        "        'description': 'Football club',\n",
        "        'country': 'Spain'\n",
        "    },\n",
        "    {\n",
        "        'name': 'Rihanna',\n",
        "        'follower_count': 81,\n",
        "        'description': 'Musician and businesswoman',\n",
        "        'country': 'Barbados'\n",
        "    },\n",
        "    {\n",
        "        'name': 'Demi Lovato',\n",
        "        'follower_count': 80,\n",
        "        'description': 'Musician and actress',\n",
        "        'country': 'United States'\n",
        "    },\n",
        "    {\n",
        "        'name': \"Victoria's Secret\",\n",
        "        'follower_count': 69,\n",
        "        'description': 'Lingerie brand',\n",
        "        'country': 'United States'\n",
        "    },\n",
        "    {\n",
        "        'name': 'Zendaya',\n",
        "        'follower_count': 68,\n",
        "        'description': 'Actress and musician',\n",
        "        'country': 'United States'\n",
        "    },\n",
        "    {\n",
        "        'name': 'Shakira',\n",
        "        'follower_count': 66,\n",
        "        'description': 'Musician',\n",
        "        'country': 'Colombia'\n",
        "    },\n",
        "    {\n",
        "        'name': 'Drake',\n",
        "        'follower_count': 65,\n",
        "        'description': 'Musician',\n",
        "        'country': 'Canada'\n",
        "    },\n",
        "    {\n",
        "        'name': 'Chris Brown',\n",
        "        'follower_count': 64,\n",
        "        'description': 'Musician',\n",
        "        'country': 'United States'\n",
        "    },\n",
        "    {\n",
        "        'name': 'LeBron James',\n",
        "        'follower_count': 63,\n",
        "        'description': 'Basketball player',\n",
        "        'country': 'United States'\n",
        "    },\n",
        "    {\n",
        "        'name': 'Vin Diesel',\n",
        "        'follower_count': 62,\n",
        "        'description': 'Actor',\n",
        "        'country': 'United States'\n",
        "    },\n",
        "    {\n",
        "        'name': 'Cardi B',\n",
        "        'follower_count': 67,\n",
        "        'description': 'Musician',\n",
        "        'country': 'United States'\n",
        "    },\n",
        "    {\n",
        "        'name': 'David Beckham',\n",
        "        'follower_count': 82,\n",
        "        'description': 'Footballer',\n",
        "        'country': 'United Kingdom'\n",
        "    },\n",
        "    {\n",
        "        'name': 'Billie Eilish',\n",
        "        'follower_count': 61,\n",
        "        'description': 'Musician',\n",
        "        'country': 'United States'\n",
        "    },\n",
        "    {\n",
        "        'name': 'Justin Timberlake',\n",
        "        'follower_count': 59,\n",
        "        'description': 'Musician and actor',\n",
        "        'country': 'United States'\n",
        "    },\n",
        "    {\n",
        "        'name': 'UEFA Champions League',\n",
        "        'follower_count': 58,\n",
        "        'description': 'Club football competition',\n",
        "        'country': 'Europe'\n",
        "    },\n",
        "    {\n",
        "        'name': 'NASA',\n",
        "        'follower_count': 56,\n",
        "        'description': 'Space agency',\n",
        "        'country': 'United States'\n",
        "    },\n",
        "    {\n",
        "        'name': 'Emma Watson',\n",
        "        'follower_count': 56,\n",
        "        'description': 'Actress',\n",
        "        'country': 'United Kingdom'\n",
        "    },\n",
        "    {\n",
        "        'name': 'Shawn Mendes',\n",
        "        'follower_count': 57,\n",
        "        'description': 'Musician',\n",
        "        'country': 'Canada'\n",
        "    },\n",
        "    {\n",
        "        'name': 'Virat Kohli',\n",
        "        'follower_count': 55,\n",
        "        'description': 'Cricketer',\n",
        "        'country': 'India'\n",
        "    },\n",
        "    {\n",
        "        'name': 'Gigi Hadid',\n",
        "        'follower_count': 54,\n",
        "        'description': 'Model',\n",
        "        'country': 'United States'\n",
        "    },\n",
        "    {\n",
        "        'name': 'Priyanka Chopra Jonas',\n",
        "        'follower_count': 53,\n",
        "        'description': 'Actress and musician',\n",
        "        'country': 'India'\n",
        "    },\n",
        "    {\n",
        "        'name': '9GAG',\n",
        "        'follower_count': 52,\n",
        "        'description': 'Social media platform',\n",
        "        'country': 'China'\n",
        "    },\n",
        "    {\n",
        "        'name': 'Ronaldinho',\n",
        "        'follower_count': 51,\n",
        "        'description': 'Footballer',\n",
        "        'country': 'Brasil'\n",
        "    },\n",
        "    {\n",
        "        'name': 'Maluma',\n",
        "        'follower_count': 50,\n",
        "        'description': 'Musician',\n",
        "        'country': 'Colombia'\n",
        "    },\n",
        "    {\n",
        "        'name': 'Camila Cabello',\n",
        "        'follower_count': 49,\n",
        "        'description': 'Musician',\n",
        "        'country': 'Cuba'\n",
        "    },\n",
        "    {\n",
        "        'name': 'NBA',\n",
        "        'follower_count': 47,\n",
        "        'description': 'Club Basketball Competition',\n",
        "        'country': 'United States'\n",
        "    }\n",
        "]\n",
        "\n",
        "import random\n",
        "from IPython.display import clear_output\n",
        "\n",
        "score = 0\n",
        "again = True\n",
        "\n",
        "while again:\n",
        "  first_choice = random.choice(data)\n",
        "  print(logo)\n",
        "\n",
        "  print(f\"Compare A: {first_choice['name']}, {first_choice['description']}, from {first_choice['country']}\")\n",
        "\n",
        "  print(vs)\n",
        "\n",
        "  second_choice = random.choice(data)\n",
        "\n",
        "  while second_choice == first_choice:\n",
        "    second_choice = random.choice(data)\n",
        "\n",
        "  print(f\"Againist B: {second_choice['name']}, {second_choice['description']}, from {second_choice['country']}\")\n",
        "\n",
        "  guess_input = input(\"Who has more followers?: Type 'A' or 'B':\\n\").lower()\n",
        "  \n",
        "  if guess_input == 'a':\n",
        "    users_choice = first_choice\n",
        "    computers_choice = second_choice\n",
        "  else:\n",
        "    computers_choice = first_choice\n",
        "    users_choice = second_choice\n",
        "  if users_choice['follower_count'] > computers_choice['follower_count']:\n",
        "    score += 1\n",
        "    print(f'You are right. Current score: {score}')\n",
        "    clear_output(wait=True)\n",
        "  elif first_choice['follower_count'] < second_choice['follower_count']:\n",
        "    print(f'Sorry. That is wrong. Final score is: {score}')\n",
        "    again = False"
      ],
      "metadata": {
        "colab": {
          "base_uri": "https://localhost:8080/"
        },
        "id": "GZXT-KKEACMY",
        "outputId": "5ffd111b-70d5-41e4-b98f-37533ed94610"
      },
      "execution_count": 4,
      "outputs": [
        {
          "output_type": "stream",
          "name": "stdout",
          "text": [
            "\n",
            "    __  ___       __             \n",
            "   / / / (_)___ _/ /_  ___  _____\n",
            "  / /_/ / / __ `/ __ \\/ _ \\/ ___/\n",
            " / __  / / /_/ / / / /  __/ /    \n",
            "/_/ ///_/\\__, /_/ /_/\\___/_/     \n",
            "   / /  /____/_      _____  _____\n",
            "  / /   / __ \\ | /| / / _ \\/ ___/\n",
            " / /___/ /_/ / |/ |/ /  __/ /    \n",
            "/_____/\\____/|__/|__/\\___/_/     \n",
            "\n",
            "Compare A: David Beckham, Footballer, from United Kingdom\n",
            "\n",
            "\n",
            " _    __    \n",
            "| |  / /____\n",
            "| | / / ___/\n",
            "| |/ (__  ) \n",
            "|___/____(_)\n",
            "\n",
            "\n",
            "Againist B: Neymar, Footballer, from Brasil\n",
            "Who has more followers?: Type 'A' or 'B':\n",
            "a\n",
            "Sorry. That is wrong. Final score is: 3\n"
          ]
        }
      ]
    },
    {
      "cell_type": "markdown",
      "source": [
        "## The End"
      ],
      "metadata": {
        "id": "TX2lKZLNYjKq"
      }
    }
  ]
}